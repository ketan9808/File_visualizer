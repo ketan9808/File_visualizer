{
 "cells": [
  {
   "cell_type": "markdown",
   "metadata": {},
   "source": [
    "# Introduction\n",
    "This following Python program aims to rearrange the given folder and its subfolders in ordered way. My intention for creating this program is that I have a large collection of Videos and some of them are in folers others are without any folder, some program have subtitle and there are duplicate Videos present also there is a problem with the name of the files. So I'm Writing this program so that every file have a correct name and folder with subtitle file with the same name. I will also try to prepare a log file for the activities that are being performed and another log file for missing srt(subtitle file) files."
   ]
  },
  {
   "cell_type": "code",
   "execution_count": 2,
   "metadata": {},
   "outputs": [],
   "source": [
    "import sys\n",
    "import os\n",
    "import pandas as pd\n",
    "import seaborn as sns\n",
    "import matplotlib.pyplot as plt"
   ]
  },
  {
   "cell_type": "markdown",
   "metadata": {},
   "source": [
    "# Data Extraction"
   ]
  },
  {
   "cell_type": "code",
   "execution_count": 3,
   "metadata": {},
   "outputs": [],
   "source": [
    "def ret_content(path):\n",
    "    \n",
    "    if not path.endswith('/'):\n",
    "        path += '/'\n",
    "    \n",
    "    files = []\n",
    "    file_path = []\n",
    "    \n",
    "    for file in os.listdir(path):\n",
    "        \n",
    "        file_name, extension = os.path.splitext(file)\n",
    "\n",
    "        if extension=='' and not file_name.startswith('.'):\n",
    "            rec_file, rec_path = ret_content(path+file)\n",
    "            files.extend(rec_file)\n",
    "            file_path.extend(rec_path)\n",
    "        \n",
    "        else:\n",
    "            files += [(file_name,extension)]\n",
    "            file_path.append(path+file)\n",
    "    \n",
    "    return files, file_path"
   ]
  },
  {
   "cell_type": "code",
   "execution_count": 35,
   "metadata": {},
   "outputs": [],
   "source": [
    "files, file_paths = ret_content('/media/ketan/Seagate Expansion Drive/Movies')\n",
    "# files, file_paths = ret_content(\"/home/ketan/Videos/vehicles\")"
   ]
  },
  {
   "cell_type": "code",
   "execution_count": 47,
   "metadata": {},
   "outputs": [
    {
     "name": "stdout",
     "output_type": "stream",
     "text": [
      "('Mission Impossible 4', '.mkv')\n",
      "('Mission Impossible Rogue Nation', '.mkv')\n",
      "('Mission Impossible', '.mkv')\n",
      "('71.2014.720p.BluRay.x264.YIFY', '.mp4')\n",
      "('(2005)The Exorcism of Emily Rose', '.mp4')\n",
      "('000 Point Break', '.mkv')\n",
      "('03 Last Crusade - Harrison Ford Adventure Eng [H264-mp4]', '.mp4')\n",
      "('17.Again.2009.720p.BrRip.x264.YIFY', '.mp4')\n",
      "('17.Again.2009.720p.BrRip.x264.YIFY', '.srt')\n",
      "('WWW.YIFY-TORRENTS.COM', '.jpg')\n"
     ]
    }
   ],
   "source": [
    "for i in range(10):\n",
    "    print(files[i])"
   ]
  },
  {
   "cell_type": "code",
   "execution_count": 49,
   "metadata": {},
   "outputs": [
    {
     "name": "stdout",
     "output_type": "stream",
     "text": [
      "/media/ketan/Seagate Expansion Drive/Movies/Hollywood/Mission Impossible/Mission Impossible 4.mkv\n",
      "/media/ketan/Seagate Expansion Drive/Movies/Hollywood/Mission Impossible/Mission Impossible Rogue Nation.mkv\n",
      "/media/ketan/Seagate Expansion Drive/Movies/Hollywood/Mission Impossible/Mission Impossible.mkv\n",
      "/media/ketan/Seagate Expansion Drive/Movies/Hollywood/'71 (2014)/71.2014.720p.BluRay.x264.YIFY.mp4\n",
      "/media/ketan/Seagate Expansion Drive/Movies/Hollywood/(2005)The Exorcism of Emily Rose.mp4\n",
      "/media/ketan/Seagate Expansion Drive/Movies/Hollywood/000 Point Break.mkv\n",
      "/media/ketan/Seagate Expansion Drive/Movies/Hollywood/03 Last Crusade - Harrison Ford Adventure Eng [H264-mp4].mp4\n",
      "/media/ketan/Seagate Expansion Drive/Movies/Hollywood/17 Again (2009)/17.Again.2009.720p.BrRip.x264.YIFY.mp4\n",
      "/media/ketan/Seagate Expansion Drive/Movies/Hollywood/17 Again (2009)/17.Again.2009.720p.BrRip.x264.YIFY.srt\n",
      "/media/ketan/Seagate Expansion Drive/Movies/Hollywood/17 Again (2009)/WWW.YIFY-TORRENTS.COM.jpg\n"
     ]
    }
   ],
   "source": [
    "for i in range(10):\n",
    "    print(file_paths[i])"
   ]
  },
  {
   "cell_type": "markdown",
   "metadata": {},
   "source": [
    "# Files Needing Renaming\n",
    "some of the file contain spam texts. We need to replace them with correct one or remove them.\n",
    "\n",
    "one of the feature that I have observed is file names which contain spam text usually have special characters."
   ]
  },
  {
   "cell_type": "code",
   "execution_count": 51,
   "metadata": {},
   "outputs": [],
   "source": [
    "def has_special_char(text: str) -> bool:\n",
    "    return any(c for c in text if not c.isalnum() and not c.isspace())"
   ]
  },
  {
   "cell_type": "code",
   "execution_count": 52,
   "metadata": {},
   "outputs": [
    {
     "name": "stdout",
     "output_type": "stream",
     "text": [
      "/media/ketan/Seagate Expansion Drive/Movies/Hollywood/'71 (2014)/71.2014.720p.BluRay.x264.YIFY.mp4\n",
      "/media/ketan/Seagate Expansion Drive/Movies/Hollywood/(2005)The Exorcism of Emily Rose.mp4\n",
      "/media/ketan/Seagate Expansion Drive/Movies/Hollywood/03 Last Crusade - Harrison Ford Adventure Eng [H264-mp4].mp4\n",
      "/media/ketan/Seagate Expansion Drive/Movies/Hollywood/17 Again (2009)/17.Again.2009.720p.BrRip.x264.YIFY.mp4\n",
      "/media/ketan/Seagate Expansion Drive/Movies/Hollywood/17 Again (2009)/17.Again.2009.720p.BrRip.x264.YIFY.srt\n",
      "/media/ketan/Seagate Expansion Drive/Movies/Hollywood/17 Again (2009)/WWW.YIFY-TORRENTS.COM.jpg\n",
      "/media/ketan/Seagate Expansion Drive/Movies/Hollywood/310 to Yuma (2007)/310.to.Yuma.2007.720p.BrRip.x264.BOKUTOX.YIFY.mp4\n",
      "/media/ketan/Seagate Expansion Drive/Movies/Hollywood/310 to Yuma (2007)/Catch Me If You Can (2002)/Catch.Me.If.You.Can.2002.720p.BluRay.x264.YIFY.mp4\n",
      "/media/ketan/Seagate Expansion Drive/Movies/Hollywood/310 to Yuma (2007)/Catch Me If You Can (2002)/WWW.YIFY-TORRENTS.COM.jpg\n",
      "/media/ketan/Seagate Expansion Drive/Movies/Hollywood/3B34b13.WorldFree4u.Com.mkv\n"
     ]
    }
   ],
   "source": [
    "defaulters = []\n",
    "for path in file_paths:\n",
    "    file = path.split('/')[-1]\n",
    "    file_name, extension = os.path.splitext(file)\n",
    "    if has_special_char(file_name): defaulters.append(path)\n",
    "for i in range(10):\n",
    "    print(defaulters[i])"
   ]
  },
  {
   "cell_type": "markdown",
   "metadata": {},
   "source": [
    "# Data Visualization"
   ]
  },
  {
   "cell_type": "code",
   "execution_count": 38,
   "metadata": {},
   "outputs": [
    {
     "data": {
      "text/html": [
       "<div>\n",
       "<style scoped>\n",
       "    .dataframe tbody tr th:only-of-type {\n",
       "        vertical-align: middle;\n",
       "    }\n",
       "\n",
       "    .dataframe tbody tr th {\n",
       "        vertical-align: top;\n",
       "    }\n",
       "\n",
       "    .dataframe thead th {\n",
       "        text-align: right;\n",
       "    }\n",
       "</style>\n",
       "<table border=\"1\" class=\"dataframe\">\n",
       "  <thead>\n",
       "    <tr style=\"text-align: right;\">\n",
       "      <th></th>\n",
       "      <th>file_name</th>\n",
       "      <th>extension</th>\n",
       "    </tr>\n",
       "  </thead>\n",
       "  <tbody>\n",
       "    <tr>\n",
       "      <th>0</th>\n",
       "      <td>Mission Impossible 4</td>\n",
       "      <td>.mkv</td>\n",
       "    </tr>\n",
       "    <tr>\n",
       "      <th>1</th>\n",
       "      <td>Mission Impossible Rogue Nation</td>\n",
       "      <td>.mkv</td>\n",
       "    </tr>\n",
       "    <tr>\n",
       "      <th>2</th>\n",
       "      <td>Mission Impossible</td>\n",
       "      <td>.mkv</td>\n",
       "    </tr>\n",
       "    <tr>\n",
       "      <th>3</th>\n",
       "      <td>71.2014.720p.BluRay.x264.YIFY</td>\n",
       "      <td>.mp4</td>\n",
       "    </tr>\n",
       "    <tr>\n",
       "      <th>4</th>\n",
       "      <td>(2005)The Exorcism of Emily Rose</td>\n",
       "      <td>.mp4</td>\n",
       "    </tr>\n",
       "  </tbody>\n",
       "</table>\n",
       "</div>"
      ],
      "text/plain": [
       "                          file_name extension\n",
       "0              Mission Impossible 4      .mkv\n",
       "1   Mission Impossible Rogue Nation      .mkv\n",
       "2                Mission Impossible      .mkv\n",
       "3     71.2014.720p.BluRay.x264.YIFY      .mp4\n",
       "4  (2005)The Exorcism of Emily Rose      .mp4"
      ]
     },
     "execution_count": 38,
     "metadata": {},
     "output_type": "execute_result"
    }
   ],
   "source": [
    "data = pd.DataFrame(files, columns = ['file_name', 'extension'])\n",
    "data.head()"
   ]
  },
  {
   "cell_type": "code",
   "execution_count": 39,
   "metadata": {},
   "outputs": [
    {
     "name": "stdout",
     "output_type": "stream",
     "text": [
      ".mkv\n",
      ".mp4\n",
      ".srt\n",
      ".jpg\n",
      ".avi\n",
      ".1 E-Subs - LOKI - M2Tv\n",
      ".1 [DDR]\n",
      ".txt\n",
      ".db\n",
      ".AG]\n",
      ".bc!\n",
      ".ini\n",
      ".Dual Audio [Hin-Eng] - Team ExD\n",
      ".MKV\n",
      ".anoXmous\n",
      ".idx\n",
      ".sub\n",
      ".Runner (1997)\n",
      ".YIFY\n",
      ".ass\n",
      ".AM]\n",
      ".A Confidential (1997)\n",
      ".zip\n",
      ".FLV\n",
      ".dat\n",
      ".0] - Mafiaking\n",
      ".XviD-DiVERSE\n",
      ".flv\n",
      ".XViD-ETRG\n",
      ".1]--prisak~~{HKRG}\n",
      ".HEVC-PSA\n"
     ]
    }
   ],
   "source": [
    "for i in data.extension.unique():\n",
    "    print(i)"
   ]
  },
  {
   "cell_type": "code",
   "execution_count": 40,
   "metadata": {},
   "outputs": [
    {
     "data": {
      "text/plain": [
       "[359,\n",
       " 233,\n",
       " 135,\n",
       " 92,\n",
       " 31,\n",
       " 1,\n",
       " 1,\n",
       " 53,\n",
       " 7,\n",
       " 29,\n",
       " 3,\n",
       " 2,\n",
       " 1,\n",
       " 2,\n",
       " 2,\n",
       " 2,\n",
       " 2,\n",
       " 1,\n",
       " 1,\n",
       " 1,\n",
       " 10,\n",
       " 1,\n",
       " 2,\n",
       " 3,\n",
       " 3,\n",
       " 1,\n",
       " 1,\n",
       " 1,\n",
       " 1,\n",
       " 1,\n",
       " 1]"
      ]
     },
     "execution_count": 40,
     "metadata": {},
     "output_type": "execute_result"
    }
   ],
   "source": [
    "extension_count = []\n",
    "for ext in data.extension.unique():\n",
    "    c = data[data.extension == ext].count()\n",
    "    extension_count.append(c.extension)\n",
    "extension_count"
   ]
  },
  {
   "cell_type": "code",
   "execution_count": 41,
   "metadata": {},
   "outputs": [
    {
     "data": {
      "text/plain": [
       "<matplotlib.axes._subplots.AxesSubplot at 0x7fa234d08400>"
      ]
     },
     "execution_count": 41,
     "metadata": {},
     "output_type": "execute_result"
    },
    {
     "data": {
      "image/png": "[encoded data removed]",
      "text/plain": [
       "<Figure size 432x288 with 1 Axes>"
      ]
     },
     "metadata": {
      "needs_background": "light"
     },
     "output_type": "display_data"
    }
   ],
   "source": [
    "sns.barplot(extension_count, list(data.extension.unique()), )"
   ]
  },
  {
   "cell_type": "markdown",
   "metadata": {},
   "source": [
    "# Extracting file and folder information\n",
    "\n",
    "Finding out which file is inside a folder with same name or not.\n",
    "for files which don't have folders create and move the files into folders.\n",
    "do the same for srt files."
   ]
  },
  {
   "cell_type": "code",
   "execution_count": 42,
   "metadata": {},
   "outputs": [],
   "source": [
    "def compare_folder_file(folder_name, file_name):\n",
    "    folder_name = folder_name.split(\" \")\n",
    "    file_name = file_name.split(\" \")\n",
    "    \n",
    "    word_matched = 0\n",
    "    \n",
    "    for i, j in zip(folder_name, file_name):\n",
    "        if j.lower() in i.lower():\n",
    "            word_matched += 1\n",
    "    if word_matched > 0: return False\n",
    "    else: return True"
   ]
  },
  {
   "cell_type": "code",
   "execution_count": 46,
   "metadata": {},
   "outputs": [
    {
     "name": "stdout",
     "output_type": "stream",
     "text": [
      "/media/ketan/Seagate Expansion Drive/Movies/Hollywood/'71 (2014)/71.2014.720p.BluRay.x264.YIFY.mp4\n",
      "/media/ketan/Seagate Expansion Drive/Movies/Hollywood/(2005)The Exorcism of Emily Rose.mp4\n",
      "/media/ketan/Seagate Expansion Drive/Movies/Hollywood/000 Point Break.mkv\n",
      "/media/ketan/Seagate Expansion Drive/Movies/Hollywood/03 Last Crusade - Harrison Ford Adventure Eng [H264-mp4].mp4\n",
      "/media/ketan/Seagate Expansion Drive/Movies/Hollywood/17 Again (2009)/17.Again.2009.720p.BrRip.x264.YIFY.mp4\n",
      "/media/ketan/Seagate Expansion Drive/Movies/Hollywood/17 Again (2009)/17.Again.2009.720p.BrRip.x264.YIFY.srt\n",
      "/media/ketan/Seagate Expansion Drive/Movies/Hollywood/17 Again (2009)/WWW.YIFY-TORRENTS.COM.jpg\n",
      "/media/ketan/Seagate Expansion Drive/Movies/Hollywood/3 Musketeers.avi\n",
      "/media/ketan/Seagate Expansion Drive/Movies/Hollywood/300.mkv\n",
      "/media/ketan/Seagate Expansion Drive/Movies/Hollywood/310 to Yuma (2007)/310.to.Yuma.2007.720p.BrRip.x264.BOKUTOX.YIFY.mp4\n"
     ]
    }
   ],
   "source": [
    "without_folders = []\n",
    "for path in file_paths:\n",
    "    temp = path.split('/')\n",
    "    \n",
    "    file_name = os.path.splitext(temp[-1])[0]\n",
    "    folder_name = temp[-2]\n",
    "#     file_name not in folder_name\n",
    "    if compare_folder_file(folder_name, file_name):\n",
    "        without_folders.append(path)\n",
    "for i in range(10):\n",
    "    print(without_folders[i])"
   ]
  },
  {
   "cell_type": "code",
   "execution_count": null,
   "metadata": {},
   "outputs": [],
   "source": []
  }
 ],
 "metadata": {
  "kernelspec": {
   "display_name": "Python 3",
   "language": "python3",
   "name": "python3"
  },
  "language_info": {
   "codemirror_mode": {
    "name": "ipython",
    "version": 3
   },
   "file_extension": ".py",
   "mimetype": "text/x-python",
   "name": "python",
   "nbconvert_exporter": "python",
   "pygments_lexer": "ipython3",
   "version": "3.6.9"
  }
 },
 "nbformat": 4,
 "nbformat_minor": 2
}
