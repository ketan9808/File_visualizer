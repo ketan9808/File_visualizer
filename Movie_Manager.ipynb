{
 "cells": [
  {
   "cell_type": "markdown",
   "metadata": {},
   "source": [
    "# Introduction\n",
    "This following Python program aims to rearrange the given folder and its subfolders in ordered way. My intention for creating this program is that I have a large collection of Videos and some of them are in folers others are without any folder, some program have subtitle and there are duplicate Videos present also there is a problem with the name of the files. So I'm Writing this program so that every file have a correct name and folder with subtitle file with the same name. I will also try to prepare a log file for the activities that are being performed and another log file for missing srt(subtitle file) files."
   ]
  },
  {
   "cell_type": "code",
   "execution_count": 1,
   "metadata": {},
   "outputs": [],
   "source": [
    "import sys\n",
    "import os\n",
    "import numpy as np\n",
    "import pandas as pd\n",
    "import seaborn as sns\n",
    "import matplotlib.pyplot as plt"
   ]
  },
  {
   "cell_type": "markdown",
   "metadata": {},
   "source": [
    "# Data Extraction"
   ]
  },
  {
   "cell_type": "code",
   "execution_count": 2,
   "metadata": {},
   "outputs": [],
   "source": [
    "def ret_content(path):\n",
    "    \n",
    "    if not path.endswith('/'):\n",
    "        path += '/'\n",
    "    data = []\n",
    "    \n",
    "    for file in os.listdir(path):\n",
    "        \n",
    "        if os.path.isdir(path+file) and not file.startswith('.'):\n",
    "            returned_data = ret_content(path+file)\n",
    "            data.extend(returned_data)\n",
    "        \n",
    "        else:\n",
    "            size = round(os.path.getsize(path+file) / (1024.0 * 1024.0), 3)\n",
    "            file_name, extension = os.path.splitext(file)\n",
    "            parent = path.split('/')[-2]\n",
    "            data.append((parent, file_name, extension, size, path+file))\n",
    "            \n",
    "    return data"
   ]
  },
  {
   "cell_type": "code",
   "execution_count": 6,
   "metadata": {},
   "outputs": [],
   "source": [
    "data = ret_content('/media/ketan/Seagate Expansion Drive/Movies/Hollywood')\n",
    "# files, file_paths = ret_content(\"/home/ketan/Videos/vehicles\")"
   ]
  },
  {
   "cell_type": "markdown",
   "metadata": {},
   "source": [
    "# Data Visualization"
   ]
  },
  {
   "cell_type": "code",
   "execution_count": 7,
   "metadata": {},
   "outputs": [
    {
     "data": {
      "text/html": [
       "<div>\n",
       "<style scoped>\n",
       "    .dataframe tbody tr th:only-of-type {\n",
       "        vertical-align: middle;\n",
       "    }\n",
       "\n",
       "    .dataframe tbody tr th {\n",
       "        vertical-align: top;\n",
       "    }\n",
       "\n",
       "    .dataframe thead th {\n",
       "        text-align: right;\n",
       "    }\n",
       "</style>\n",
       "<table border=\"1\" class=\"dataframe\">\n",
       "  <thead>\n",
       "    <tr style=\"text-align: right;\">\n",
       "      <th></th>\n",
       "      <th>parent_folder</th>\n",
       "      <th>file_name</th>\n",
       "      <th>extension</th>\n",
       "      <th>size</th>\n",
       "      <th>full_path</th>\n",
       "    </tr>\n",
       "  </thead>\n",
       "  <tbody>\n",
       "    <tr>\n",
       "      <th>4</th>\n",
       "      <td>Hollywood</td>\n",
       "      <td>(2005)The Exorcism of Emily Rose</td>\n",
       "      <td>.mp4</td>\n",
       "      <td>1897.171</td>\n",
       "      <td>/media/ketan/Seagate Expansion Drive/Movies/Ho...</td>\n",
       "    </tr>\n",
       "    <tr>\n",
       "      <th>30</th>\n",
       "      <td>Dil Se (1998) ~2CD DvDRip x264 AC3 5.1 [DDR]</td>\n",
       "      <td>(sample) Dil Se (1998) ~2CD DvDRip x264 AC3 5....</td>\n",
       "      <td>.mkv</td>\n",
       "      <td>11.801</td>\n",
       "      <td>/media/ketan/Seagate Expansion Drive/Movies/Ho...</td>\n",
       "    </tr>\n",
       "    <tr>\n",
       "      <th>5</th>\n",
       "      <td>Hollywood</td>\n",
       "      <td>000 Point Break</td>\n",
       "      <td>.mkv</td>\n",
       "      <td>1002.280</td>\n",
       "      <td>/media/ketan/Seagate Expansion Drive/Movies/Ho...</td>\n",
       "    </tr>\n",
       "    <tr>\n",
       "      <th>6</th>\n",
       "      <td>Hollywood</td>\n",
       "      <td>03 Last Crusade - Harrison Ford Adventure Eng ...</td>\n",
       "      <td>.mp4</td>\n",
       "      <td>951.495</td>\n",
       "      <td>/media/ketan/Seagate Expansion Drive/Movies/Ho...</td>\n",
       "    </tr>\n",
       "    <tr>\n",
       "      <th>584</th>\n",
       "      <td>The Usual Suspects (1995) BRRip 720p x264 [Dua...</td>\n",
       "      <td>1</td>\n",
       "      <td>.jpg</td>\n",
       "      <td>0.080</td>\n",
       "      <td>/media/ketan/Seagate Expansion Drive/Movies/Ho...</td>\n",
       "    </tr>\n",
       "  </tbody>\n",
       "</table>\n",
       "</div>"
      ],
      "text/plain": [
       "                                         parent_folder  \\\n",
       "4                                            Hollywood   \n",
       "30        Dil Se (1998) ~2CD DvDRip x264 AC3 5.1 [DDR]   \n",
       "5                                            Hollywood   \n",
       "6                                            Hollywood   \n",
       "584  The Usual Suspects (1995) BRRip 720p x264 [Dua...   \n",
       "\n",
       "                                             file_name extension      size  \\\n",
       "4                     (2005)The Exorcism of Emily Rose      .mp4  1897.171   \n",
       "30   (sample) Dil Se (1998) ~2CD DvDRip x264 AC3 5....      .mkv    11.801   \n",
       "5                                      000 Point Break      .mkv  1002.280   \n",
       "6    03 Last Crusade - Harrison Ford Adventure Eng ...      .mp4   951.495   \n",
       "584                                                  1      .jpg     0.080   \n",
       "\n",
       "                                             full_path  \n",
       "4    /media/ketan/Seagate Expansion Drive/Movies/Ho...  \n",
       "30   /media/ketan/Seagate Expansion Drive/Movies/Ho...  \n",
       "5    /media/ketan/Seagate Expansion Drive/Movies/Ho...  \n",
       "6    /media/ketan/Seagate Expansion Drive/Movies/Ho...  \n",
       "584  /media/ketan/Seagate Expansion Drive/Movies/Ho...  "
      ]
     },
     "execution_count": 7,
     "metadata": {},
     "output_type": "execute_result"
    }
   ],
   "source": [
    "data = pd.DataFrame(data, columns = ['parent_folder', 'file_name', 'extension', 'size', 'full_path'])\n",
    "data = data.sort_values(\"file_name\")\n",
    "data.head()"
   ]
  },
  {
   "cell_type": "code",
   "execution_count": 8,
   "metadata": {},
   "outputs": [
    {
     "name": "stdout",
     "output_type": "stream",
     "text": [
      "['.mp4' '.mkv' '.jpg' '.MKV' '.srt' '.avi' '.txt' '.sub' '.idx' '.bc!'\n",
      " '.ass' '.nfo' '.FLV' '.db' '.flv' '.zip' '.ini' '.dat']\n"
     ]
    }
   ],
   "source": [
    "print(data.extension.unique())"
   ]
  },
  {
   "cell_type": "code",
   "execution_count": 9,
   "metadata": {},
   "outputs": [
    {
     "data": {
      "text/plain": [
       "[284, 370, 123, 2, 148, 34, 64, 2, 2, 4, 1, 2, 3, 7, 1, 2, 2, 4]"
      ]
     },
     "execution_count": 9,
     "metadata": {},
     "output_type": "execute_result"
    }
   ],
   "source": [
    "extension_count = []\n",
    "for ext in data.extension.unique():\n",
    "    c = data[data.extension == ext].count()\n",
    "    extension_count.append(c.extension)\n",
    "extension_count"
   ]
  },
  {
   "cell_type": "markdown",
   "metadata": {},
   "source": [
    "# Number of Files with each extension"
   ]
  },
  {
   "cell_type": "code",
   "execution_count": 10,
   "metadata": {},
   "outputs": [
    {
     "data": {
      "image/png": "[encoded data removed]",
      "text/plain": [
       "<Figure size 432x288 with 1 Axes>"
      ]
     },
     "metadata": {
      "needs_background": "light"
     },
     "output_type": "display_data"
    }
   ],
   "source": [
    "sns.countplot(y = 'extension', data = data)\n",
    "plt.show()"
   ]
  },
  {
   "cell_type": "markdown",
   "metadata": {},
   "source": [
    "# Size occupied by each extention"
   ]
  },
  {
   "cell_type": "code",
   "execution_count": 11,
   "metadata": {},
   "outputs": [
    {
     "name": "stdout",
     "output_type": "stream",
     "text": [
      "[325974.078, 338053.722, 16.783, 3656.446, 14.765, 24059.0, 0.024, 96.633, 0.64, 10.0, 0.126, 0.007, 41.811, 0.076, 766.316, 0.069, 0.0, 2.151]\n"
     ]
    }
   ],
   "source": [
    "size_count = []\n",
    "extensions = data.extension.unique()\n",
    "index = np.arange(len(extensions))\n",
    "for i in extensions:\n",
    "    size_count.append(round(sum(data[data.extension == i]['size']), 3))\n",
    "print(size_count)"
   ]
  },
  {
   "cell_type": "code",
   "execution_count": 12,
   "metadata": {
    "scrolled": true
   },
   "outputs": [
    {
     "data": {
      "image/png": "[encoded data removed]",
      "text/plain": [
       "<Figure size 432x288 with 1 Axes>"
      ]
     },
     "metadata": {
      "needs_background": "light"
     },
     "output_type": "display_data"
    }
   ],
   "source": [
    "plt.bar(extensions, size_count)\n",
    "plt.title(\"size occupied by each extension\")\n",
    "plt.xlabel(\"extension\")\n",
    "plt.ylabel(\"size (MB)\")\n",
    "plt.xticks(rotation = 90)\n",
    "plt.show()"
   ]
  },
  {
   "cell_type": "markdown",
   "metadata": {},
   "source": [
    "# Examples of every type of file"
   ]
  },
  {
   "cell_type": "code",
   "execution_count": 13,
   "metadata": {
    "scrolled": false
   },
   "outputs": [
    {
     "name": "stdout",
     "output_type": "stream",
     "text": [
      "Examples for : .mp4\n",
      "4    (2005)The Exorcism of Emily Rose\n",
      "Name: file_name, dtype: object\n",
      "\n",
      "Examples for : .mkv\n",
      "30    (sample) Dil Se (1998) ~2CD DvDRip x264 AC3 5....\n",
      "Name: file_name, dtype: object\n",
      "\n",
      "Examples for : .jpg\n",
      "584    1\n",
      "Name: file_name, dtype: object\n",
      "\n",
      "Examples for : .MKV\n",
      "448    10.PART 1 PIRATES OF THE CARIBBEAN\n",
      "Name: file_name, dtype: object\n",
      "\n",
      "Examples for : .srt\n",
      "8    17.Again.2009.720p.BrRip.x264.YIFY\n",
      "Name: file_name, dtype: object\n",
      "\n",
      "Examples for : .avi\n",
      "10    3 Musketeers\n",
      "Name: file_name, dtype: object\n",
      "\n",
      "Examples for : .txt\n",
      "31    A DDR Exclusive Release\n",
      "Name: file_name, dtype: object\n",
      "\n",
      "Examples for : .sub\n",
      "165    Big.Hero.6.2014.1080p.BluRay.H264.AAC-RARBG\n",
      "Name: file_name, dtype: object\n",
      "\n",
      "Examples for : .idx\n",
      "164    Big.Hero.6.2014.1080p.BluRay.H264.AAC-RARBG\n",
      "Name: file_name, dtype: object\n",
      "\n",
      "Examples for : .bc!\n",
      "29    Detective Byomkesh Bakshy (2015) Hindi 720p Bl...\n",
      "Name: file_name, dtype: object\n",
      "\n",
      "Examples for : .ass\n",
      "243    Hotel.Transylvania.2.2015.720p.HDRip.x264-iPUN...\n",
      "Name: file_name, dtype: object\n",
      "\n",
      "Examples for : .nfo\n",
      "811    Lion\n",
      "Name: file_name, dtype: object\n",
      "\n",
      "Examples for : .FLV\n",
      "499    Rocky Balboa Alternative ending\n",
      "Name: file_name, dtype: object\n",
      "\n",
      "Examples for : .db\n",
      "676    Thumbs\n",
      "Name: file_name, dtype: object\n",
      "\n",
      "Examples for : .flv\n",
      "758    Watch Jolly LLB 2013 Hindi 720p DvDrip World4D...\n",
      "Name: file_name, dtype: object\n",
      "\n",
      "Examples for : .zip\n",
      "456    [www.anysubs.com] - Pirates_of_the_Caribbean__...\n",
      "Name: file_name, dtype: object\n",
      "\n",
      "Examples for : .ini\n",
      "117    desktop\n",
      "Name: file_name, dtype: object\n",
      "\n",
      "Examples for : .dat\n",
      "526    ~uTorrentPartFile_2BE27FA8\n",
      "Name: file_name, dtype: object\n",
      "\n"
     ]
    }
   ],
   "source": [
    "for i in data.extension.unique():\n",
    "    print(\"Examples for :\", i)\n",
    "    print(data[data.extension == i]['file_name'].head(1))\n",
    "    print()"
   ]
  },
  {
   "cell_type": "markdown",
   "metadata": {},
   "source": [
    "# Files Needing Renaming\n",
    "some of the file contain spam texts. We need to replace them with correct one or remove them.\n",
    "\n",
    "one of the feature that I have observed is file names which contain spam text usually have special characters."
   ]
  },
  {
   "cell_type": "code",
   "execution_count": 14,
   "metadata": {},
   "outputs": [],
   "source": [
    "def has_special_char(text: str) -> bool:\n",
    "    return any(c for c in text if not c.isalnum() and not c.isspace())"
   ]
  },
  {
   "cell_type": "code",
   "execution_count": 15,
   "metadata": {},
   "outputs": [],
   "source": [
    "defaulters = []\n",
    "clean = []\n",
    "for name in data.file_name:\n",
    "    file_name, extension = os.path.splitext(name)\n",
    "    if has_special_char(file_name): defaulters.append(name)\n",
    "    else: clean.append(name)"
   ]
  },
  {
   "cell_type": "code",
   "execution_count": 16,
   "metadata": {},
   "outputs": [
    {
     "name": "stdout",
     "output_type": "stream",
     "text": [
      "(2005)The Exorcism of Emily Rose\n",
      "(sample) Dil Se (1998) ~2CD DvDRip x264 AC3 5.1 [DDR]\n",
      "03 Last Crusade - Harrison Ford Adventure Eng [H264-mp4]\n",
      "17.Again.2009.720p.BrRip.x264.YIFY\n",
      "17.Again.2009.720p.BrRip.x264.YIFY\n",
      "2.Fast.2.Furious.2003.720p.BrRip.x264.YIFY+HI\n",
      "2.Fast.2.Furious.2003.720p.BrRip.x264.YIFY+HI\n",
      "310.to.Yuma.2007.720p.BrRip.x264.BOKUTOX.YIFY\n",
      "3B34b13.WorldFree4u.Com\n",
      "5_6246876172202803325\n"
     ]
    }
   ],
   "source": [
    "for i in range(10):\n",
    "    print(defaulters[i])"
   ]
  },
  {
   "cell_type": "code",
   "execution_count": 17,
   "metadata": {
    "scrolled": true
   },
   "outputs": [
    {
     "name": "stdout",
     "output_type": "stream",
     "text": [
      "485  number of files need renaming out of 1055\n"
     ]
    }
   ],
   "source": [
    "print(len(defaulters), \" number of files need renaming out of\", len(data.file_name))"
   ]
  },
  {
   "cell_type": "code",
   "execution_count": 18,
   "metadata": {
    "scrolled": true
   },
   "outputs": [
    {
     "name": "stdout",
     "output_type": "stream",
     "text": [
      "000 Point Break\n",
      "1\n",
      "1\n",
      "10\n",
      "10.PART 1 PIRATES OF THE CARIBBEAN\n",
      "10.PART 2 PIRATES OF THE CARIBBEAN\n",
      "10.PART 3 PIRATES OF THE CARIBBEAN\n",
      "11\n",
      "12\n",
      "13\n"
     ]
    }
   ],
   "source": [
    "for i in range(10):\n",
    "    print(clean[i])"
   ]
  },
  {
   "cell_type": "markdown",
   "metadata": {},
   "source": [
    "# linux File/Directory naming convention\n",
    "\n",
    "- Case Senstive\n",
    "- a-z, A-Z, 0-9, \".\", \"_\", \" \" only\n",
    "- filename should not contain \"/\"\n",
    "- 255 characters"
   ]
  },
  {
   "cell_type": "code",
   "execution_count": 19,
   "metadata": {},
   "outputs": [],
   "source": [
    "def return_special_char(text: str):\n",
    "    return list(c for c in text if not c.isalnum() and not c.isspace() and c not in ['_', ' '])"
   ]
  },
  {
   "cell_type": "code",
   "execution_count": 20,
   "metadata": {},
   "outputs": [
    {
     "name": "stdout",
     "output_type": "stream",
     "text": [
      "{'(', ')', '+', '[', '~', '$', '.', '-', '=', '–', ']', '{', '!', '&', '}', \"'\", ','}\n"
     ]
    }
   ],
   "source": [
    "# list of all special characters in names\n",
    "sp = []\n",
    "for i in defaulters:\n",
    "    sp.extend(return_special_char(i))\n",
    "print(set(sp))"
   ]
  },
  {
   "cell_type": "code",
   "execution_count": 23,
   "metadata": {},
   "outputs": [],
   "source": [
    "def return_false_word(name):\n",
    "    temp = []\n",
    "    for word in name.split():\n",
    "        alpha_flag = 0\n",
    "        digit_flag = 0\n",
    "#         upp = 0\n",
    "#         low = 0\n",
    "        for c in word:\n",
    "            if c.isalpha():\n",
    "                alpha_flag = 1\n",
    "            elif c.isdigit():\n",
    "                digit_flag = 1\n",
    "        if alpha_flag == digit_flag:\n",
    "            temp.append(word)\n",
    "#         elif alpha_flag == 1 and digit_flag == 0:\n",
    "    return temp"
   ]
  },
  {
   "cell_type": "code",
   "execution_count": 24,
   "metadata": {},
   "outputs": [],
   "source": [
    "def suggest_name(original_name):\n",
    "    new_name = original_name\n",
    "    char_content = return_special_char(new_name)\n",
    "    while char_content != []:\n",
    "        c = char_content.pop()\n",
    "        if c == ')' or c == ']'or c == '}':\n",
    "            d = char_content.pop()\n",
    "            start = new_name.index(d)\n",
    "            end = new_name.index(c)\n",
    "            new_name = new_name[:start] + new_name[end+1:]\n",
    "        elif c in ['-', '$', '!', '~', \"'\", \"=\", '&', ',', '+', '.']:\n",
    "            new_name = new_name.replace(c, ' ') \n",
    "    false_words = return_false_word(new_name)\n",
    "    for w in false_words:\n",
    "        new_name = new_name.replace(w, ' ')\n",
    "    new_name = ' '.join(new_name.split())\n",
    "    print(original_name, ' --- ', new_name)"
   ]
  },
  {
   "cell_type": "code",
   "execution_count": 25,
   "metadata": {},
   "outputs": [
    {
     "name": "stdout",
     "output_type": "stream",
     "text": [
      "(2005)The Exorcism of Emily Rose  ---  The Exorcism of Emily Rose\n",
      "(sample) Dil Se (1998) ~2CD DvDRip x264 AC3 5.1 [DDR]  ---  Dil Se DvDRip 5 1\n",
      "03 Last Crusade - Harrison Ford Adventure Eng [H264-mp4]  ---  03 Last Crusade\n",
      "17.Again.2009.720p.BrRip.x264.YIFY  ---  17 Again 2009 BrRip YIFY\n",
      "17.Again.2009.720p.BrRip.x264.YIFY  ---  17 Again 2009 BrRip YIFY\n",
      "2.Fast.2.Furious.2003.720p.BrRip.x264.YIFY+HI  ---  2 Fast 2 Furious 2003 BrRip YIFY HI\n",
      "2.Fast.2.Furious.2003.720p.BrRip.x264.YIFY+HI  ---  2 Fast 2 Furious 2003 BrRip YIFY HI\n",
      "310.to.Yuma.2007.720p.BrRip.x264.BOKUTOX.YIFY  ---  310 to Yuma 2007 BrRip BOKUTOX YIFY\n",
      "3B34b13.WorldFree4u.Com  ---  Com\n",
      "5_6246876172202803325  ---  5_6246876172202803325\n",
      "71.2014.720p.BluRay.x264.YIFY  ---  71 2014 BluRay YIFY\n",
      "A DDR Release !!!  ---  A DDR Release\n",
      "A Nightmare On Elm Street (2010) www.khatrimaza.org BRRip 1080p Dual Audio  ---  A Nightmare On Elm Street www khatrimaza org BRRip Dual Audio\n",
      "A.Dog's.Purpose.2017.720p.BluRay.x264-[YTS.AG]  ---  A\n",
      "A.Monster.Calls.2016.720p.BluRay.x264-[YTS.AG]  ---  A\n",
      "Ace Ventura 2 - When Nature Calls (1995) [ENG] [DVDrip]  ---  Ace Ventura 2 When Nature Calls\n",
      "Ace.Ventura_.Pet.Detective.1994.720p.BluRay.x264.YIFY  ---  Ace Ventura_ Pet Detective 1994 BluRay YIFY\n",
      "Alpha.2018.720p.WEB-DL.MkvCage.ws  ---  Alpha 2018 WEB DL MkvCage ws\n",
      "American.Psycho.2000.720p.BrRip.x264.YIFY  ---  American Psycho 2000 BrRip YIFY\n",
      "American.Sniper.2014.720p.BluRay.x264.YIFY  ---  American Sniper 2014 BluRay YIFY\n",
      "Angels.&.Demons.2009.720p.BrRip.x264.YIFY+HI  ---  Angels Demons 2009 BrRip YIFY HI\n",
      "Ant-Man and the Wasp  ---  Ant Man and the Wasp\n",
      "Ant-Man and the Wasp  ---  Ant Man and the Wasp\n",
      "Apocalypse.Now.1979.Redux.1080p.BluRay.x264.anoXmous_  ---  Apocalypse Now 1979 Redux BluRay anoXmous_\n",
      "Apocalypse.Now.1979.Redux.1080p.BluRay.x264.anoXmous_eng  ---  Apocalypse Now 1979 Redux BluRay anoXmous_eng\n",
      "Arrival.2016.720p.BluRay.x264-[YTS.AG]  ---  Arrival\n",
      "Article 15 2019 [ Bolly4u.run ] WEB-Dl Hindi 720p 900MB  ---  Article 15 2019 WEB Dl Hindi\n",
      "At World's End [Bluray 720p and 1080p SRT]  ---  At World s End\n",
      "Atomic.Blonde.2017.1080p.HC.HDRip.x265-HETeam  ---  Atomic Blonde 2017 HC HDRip HETeam\n",
      "Atonement.2007.720p.BluRay.x264-[YTS.AG]  ---  Atonement\n",
      "Avatar.ECE.2009.720p.BrRip.x264.bitloks.YIFY  ---  Avatar ECE 2009 BrRip bitloks YIFY\n",
      "Avatar.ECE.2009.720p.BrRip.x264.bitloks.YIFY  ---  Avatar ECE 2009 BrRip bitloks YIFY\n",
      "Babel.2006.720p.x264  ---  Babel 2006\n",
      "Baby.Driver.2017.720p.BluRay.x264-[YTS.AG]  ---  Baby\n",
      "Batman -2  ---  Batman 2\n",
      "Beauty.And.The.Beast.2017.720p.BluRay.x264-[YTS.AG]  ---  Beauty\n",
      "Big.Hero.6.2014.1080p.BluRay.H264.AAC-RARBG  ---  Big Hero 6 2014 BluRay AAC RARBG\n",
      "Big.Hero.6.2014.1080p.BluRay.H264.AAC-RARBG  ---  Big Hero 6 2014 BluRay AAC RARBG\n",
      "Bird Box 2018 720p WEB-DL x264 ESub [MW]  ---  Bird Box 2018 WEB DL ESub\n",
      "Bird.Box.2018.720p.WEBRip.x264-[YTS.AM]  ---  Bird\n",
      "Birdman.2014.1080p.BluRay.x264.YIFY  ---  Birdman 2014 BluRay YIFY\n",
      "Birdman.2014.720p.BluRay.x264.YIFY  ---  Birdman 2014 BluRay YIFY\n",
      "Black.Friday.2004.DVDRip.999MB.MkvCage.com  ---  Black Friday 2004 DVDRip MkvCage com\n",
      "Black.Mass.2015.720p.BluRay.x264-[YTS.AG]  ---  Black\n",
      "Black.Mirror.Bandersnatch.2018.720p.BluRay.x264-[YTS.AM]  ---  Black\n",
      "Black.Mirror.Bandersnatch.2018.720p.BluRay.x264-[YTS.AM]  ---  Black\n",
      "Blade.Runner.Final.Cut.1997.720p.BluRay.x264.YIFY  ---  Blade Runner Final Cut 1997 BluRay YIFY\n",
      "Blade.Runner.Final.Cut.1997.720p.BluRay.x264.YIFY  ---  Blade Runner Final Cut 1997 BluRay YIFY\n",
      "Boyhood.2014.720p.BluRay.x264.YIFY  ---  Boyhood 2014 BluRay YIFY\n",
      "Braven.2018.720p.WEB-DL.2CH.sample  ---  Braven 2018 WEB DL sample\n"
     ]
    }
   ],
   "source": [
    "for i in defaulters[:50]:\n",
    "    suggest_name(i)"
   ]
  },
  {
   "cell_type": "markdown",
   "metadata": {},
   "source": [
    "# Files with same name"
   ]
  },
  {
   "cell_type": "code",
   "execution_count": null,
   "metadata": {},
   "outputs": [],
   "source": []
  },
  {
   "cell_type": "markdown",
   "metadata": {},
   "source": [
    "# Extracting file and folder information\n",
    "\n",
    "Finding out which file is inside a folder with same name or not.\n",
    "for files which don't have folders create and move the files into folders.\n",
    "do the same for srt files."
   ]
  },
  {
   "cell_type": "code",
   "execution_count": 26,
   "metadata": {},
   "outputs": [],
   "source": [
    "def compare_folder_file(folder_name, file_name):\n",
    "    folder_name = folder_name.split(\" \")\n",
    "    file_name = file_name.split(\" \")\n",
    "    \n",
    "    word_matched = 0\n",
    "    \n",
    "    for i, j in zip(folder_name, file_name):\n",
    "        if j.lower() in i.lower():\n",
    "            word_matched += 1\n",
    "    if word_matched > 0: return False\n",
    "    else: return True"
   ]
  },
  {
   "cell_type": "code",
   "execution_count": 27,
   "metadata": {},
   "outputs": [
    {
     "ename": "NameError",
     "evalue": "name 'file_paths' is not defined",
     "output_type": "error",
     "traceback": [
      "\u001b[0;31m---------------------------------------------------------------------------\u001b[0m",
      "\u001b[0;31mNameError\u001b[0m                                 Traceback (most recent call last)",
      "\u001b[0;32m<ipython-input-27-d1d4f5488815>\u001b[0m in \u001b[0;36m<module>\u001b[0;34m\u001b[0m\n\u001b[1;32m      1\u001b[0m \u001b[0mwithout_folders\u001b[0m \u001b[0;34m=\u001b[0m \u001b[0;34m[\u001b[0m\u001b[0;34m]\u001b[0m\u001b[0;34m\u001b[0m\u001b[0;34m\u001b[0m\u001b[0m\n\u001b[0;32m----> 2\u001b[0;31m \u001b[0;32mfor\u001b[0m \u001b[0mpath\u001b[0m \u001b[0;32min\u001b[0m \u001b[0mfile_paths\u001b[0m\u001b[0;34m:\u001b[0m\u001b[0;34m\u001b[0m\u001b[0;34m\u001b[0m\u001b[0m\n\u001b[0m\u001b[1;32m      3\u001b[0m     \u001b[0mtemp\u001b[0m \u001b[0;34m=\u001b[0m \u001b[0mpath\u001b[0m\u001b[0;34m.\u001b[0m\u001b[0msplit\u001b[0m\u001b[0;34m(\u001b[0m\u001b[0;34m'/'\u001b[0m\u001b[0;34m)\u001b[0m\u001b[0;34m\u001b[0m\u001b[0;34m\u001b[0m\u001b[0m\n\u001b[1;32m      4\u001b[0m \u001b[0;34m\u001b[0m\u001b[0m\n\u001b[1;32m      5\u001b[0m     \u001b[0mfile_name\u001b[0m \u001b[0;34m=\u001b[0m \u001b[0mos\u001b[0m\u001b[0;34m.\u001b[0m\u001b[0mpath\u001b[0m\u001b[0;34m.\u001b[0m\u001b[0msplitext\u001b[0m\u001b[0;34m(\u001b[0m\u001b[0mtemp\u001b[0m\u001b[0;34m[\u001b[0m\u001b[0;34m-\u001b[0m\u001b[0;36m1\u001b[0m\u001b[0;34m]\u001b[0m\u001b[0;34m)\u001b[0m\u001b[0;34m[\u001b[0m\u001b[0;36m0\u001b[0m\u001b[0;34m]\u001b[0m\u001b[0;34m\u001b[0m\u001b[0;34m\u001b[0m\u001b[0m\n",
      "\u001b[0;31mNameError\u001b[0m: name 'file_paths' is not defined"
     ]
    }
   ],
   "source": [
    "without_folders = []\n",
    "for path in file_paths:\n",
    "    temp = path.split('/')\n",
    "    \n",
    "    file_name = os.path.splitext(temp[-1])[0]\n",
    "    folder_name = temp[-2]\n",
    "#     file_name not in folder_name\n",
    "    if compare_folder_file(folder_name, file_name):\n",
    "        without_folders.append(path)\n",
    "for i in range(10):\n",
    "    print(without_folders[i])"
   ]
  },
  {
   "cell_type": "code",
   "execution_count": null,
   "metadata": {},
   "outputs": [],
   "source": []
  }
 ],
 "metadata": {
  "kernelspec": {
   "display_name": "Python 3",
   "language": "python3",
   "name": "python3"
  },
  "language_info": {
   "codemirror_mode": {
    "name": "ipython",
    "version": 3
   },
   "file_extension": ".py",
   "mimetype": "text/x-python",
   "name": "python",
   "nbconvert_exporter": "python",
   "pygments_lexer": "ipython3",
   "version": "3.6.9"
  }
 },
 "nbformat": 4,
 "nbformat_minor": 2
}
