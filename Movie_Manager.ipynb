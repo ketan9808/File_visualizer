{
 "cells": [
  {
   "cell_type": "markdown",
   "metadata": {},
   "source": [
    "# Introduction\n",
    "This following Python program aims to rearrange the given folder and its subfolders in ordered way. My intention for creating this program is that I have a large collection of Videos and some of them are in folers others are without any folder, some program have subtitle and there are duplicate Videos present also there is a problem with the name of the files. So I'm Writing this program so that every file have a correct name and folder with subtitle file with the same name. I will also try to prepare a log file for the activities that are being performed and another log file for missing srt(subtitle file) files."
   ]
  },
  {
   "cell_type": "code",
   "execution_count": 95,
   "metadata": {},
   "outputs": [],
   "source": [
    "import sys\n",
    "import os\n",
    "import pandas as pd\n",
    "import seaborn as sns\n",
    "import matplotlib.pyplot as plt"
   ]
  },
  {
   "cell_type": "markdown",
   "metadata": {},
   "source": [
    "# Data Extraction"
   ]
  },
  {
   "cell_type": "code",
   "execution_count": 96,
   "metadata": {},
   "outputs": [],
   "source": [
    "def ret_content(path):\n",
    "    \n",
    "    if not path.endswith('/'):\n",
    "        path += '/'\n",
    "    data = []\n",
    "    \n",
    "    for file in os.listdir(path):\n",
    "        \n",
    "        if os.path.isdir(path+file) and not file.startswith('.'):\n",
    "            returned_data = ret_content(path+file)\n",
    "            data.extend(returned_data)\n",
    "        \n",
    "        else:\n",
    "            size = round(os.path.getsize(path+file) / (1024.0 * 1024.0), 3)\n",
    "            file_name, extension = os.path.splitext(file)\n",
    "            data.append((file_name, extension, size, path+file))\n",
    "            \n",
    "    return data"
   ]
  },
  {
   "cell_type": "code",
   "execution_count": 97,
   "metadata": {},
   "outputs": [],
   "source": [
    "data = ret_content('/media/ketan/Seagate Expansion Drive/Movies/Hollywood')\n",
    "# files, file_paths = ret_content(\"/home/ketan/Videos/vehicles\")"
   ]
  },
  {
   "cell_type": "markdown",
   "metadata": {},
   "source": [
    "# Data Visualization"
   ]
  },
  {
   "cell_type": "code",
   "execution_count": 98,
   "metadata": {},
   "outputs": [
    {
     "data": {
      "text/html": [
       "<div>\n",
       "<style scoped>\n",
       "    .dataframe tbody tr th:only-of-type {\n",
       "        vertical-align: middle;\n",
       "    }\n",
       "\n",
       "    .dataframe tbody tr th {\n",
       "        vertical-align: top;\n",
       "    }\n",
       "\n",
       "    .dataframe thead th {\n",
       "        text-align: right;\n",
       "    }\n",
       "</style>\n",
       "<table border=\"1\" class=\"dataframe\">\n",
       "  <thead>\n",
       "    <tr style=\"text-align: right;\">\n",
       "      <th></th>\n",
       "      <th>file_name</th>\n",
       "      <th>extension</th>\n",
       "      <th>size</th>\n",
       "      <th>full_path</th>\n",
       "    </tr>\n",
       "  </thead>\n",
       "  <tbody>\n",
       "    <tr>\n",
       "      <th>0</th>\n",
       "      <td>Mission Impossible 4</td>\n",
       "      <td>.mkv</td>\n",
       "      <td>787.544</td>\n",
       "      <td>/media/ketan/Seagate Expansion Drive/Movies/Ho...</td>\n",
       "    </tr>\n",
       "    <tr>\n",
       "      <th>1</th>\n",
       "      <td>Mission Impossible Rogue Nation</td>\n",
       "      <td>.mkv</td>\n",
       "      <td>1224.990</td>\n",
       "      <td>/media/ketan/Seagate Expansion Drive/Movies/Ho...</td>\n",
       "    </tr>\n",
       "    <tr>\n",
       "      <th>2</th>\n",
       "      <td>Mission Impossible</td>\n",
       "      <td>.mkv</td>\n",
       "      <td>407.801</td>\n",
       "      <td>/media/ketan/Seagate Expansion Drive/Movies/Ho...</td>\n",
       "    </tr>\n",
       "    <tr>\n",
       "      <th>3</th>\n",
       "      <td>71.2014.720p.BluRay.x264.YIFY</td>\n",
       "      <td>.mp4</td>\n",
       "      <td>755.665</td>\n",
       "      <td>/media/ketan/Seagate Expansion Drive/Movies/Ho...</td>\n",
       "    </tr>\n",
       "    <tr>\n",
       "      <th>4</th>\n",
       "      <td>(2005)The Exorcism of Emily Rose</td>\n",
       "      <td>.mp4</td>\n",
       "      <td>1897.171</td>\n",
       "      <td>/media/ketan/Seagate Expansion Drive/Movies/Ho...</td>\n",
       "    </tr>\n",
       "  </tbody>\n",
       "</table>\n",
       "</div>"
      ],
      "text/plain": [
       "                          file_name extension      size  \\\n",
       "0              Mission Impossible 4      .mkv   787.544   \n",
       "1   Mission Impossible Rogue Nation      .mkv  1224.990   \n",
       "2                Mission Impossible      .mkv   407.801   \n",
       "3     71.2014.720p.BluRay.x264.YIFY      .mp4   755.665   \n",
       "4  (2005)The Exorcism of Emily Rose      .mp4  1897.171   \n",
       "\n",
       "                                           full_path  \n",
       "0  /media/ketan/Seagate Expansion Drive/Movies/Ho...  \n",
       "1  /media/ketan/Seagate Expansion Drive/Movies/Ho...  \n",
       "2  /media/ketan/Seagate Expansion Drive/Movies/Ho...  \n",
       "3  /media/ketan/Seagate Expansion Drive/Movies/Ho...  \n",
       "4  /media/ketan/Seagate Expansion Drive/Movies/Ho...  "
      ]
     },
     "execution_count": 98,
     "metadata": {},
     "output_type": "execute_result"
    }
   ],
   "source": [
    "data = pd.DataFrame(data, columns = ['file_name', 'extension', 'size', 'full_path'])\n",
    "data.head()"
   ]
  },
  {
   "cell_type": "code",
   "execution_count": 99,
   "metadata": {},
   "outputs": [
    {
     "name": "stdout",
     "output_type": "stream",
     "text": [
      "['.mkv' '.mp4' '.srt' '.jpg' '.avi' '.bc!' '.txt' '.db' '.ini' '.MKV'\n",
      " '.idx' '.sub' '.ass' '.dat' '.zip' '.FLV' '.nfo' '.flv']\n"
     ]
    }
   ],
   "source": [
    "print(data.extension.unique())"
   ]
  },
  {
   "cell_type": "code",
   "execution_count": 100,
   "metadata": {},
   "outputs": [
    {
     "data": {
      "text/plain": [
       "[370, 284, 148, 123, 34, 4, 64, 7, 2, 2, 2, 2, 1, 4, 2, 3, 2, 1]"
      ]
     },
     "execution_count": 100,
     "metadata": {},
     "output_type": "execute_result"
    }
   ],
   "source": [
    "extension_count = []\n",
    "for ext in data.extension.unique():\n",
    "    c = data[data.extension == ext].count()\n",
    "    extension_count.append(c.extension)\n",
    "extension_count"
   ]
  },
  {
   "cell_type": "code",
   "execution_count": 101,
   "metadata": {},
   "outputs": [
    {
     "data": {
      "image/png": "[encoded data removed]",
      "text/plain": [
       "<Figure size 432x288 with 1 Axes>"
      ]
     },
     "metadata": {
      "needs_background": "light"
     },
     "output_type": "display_data"
    }
   ],
   "source": [
    "sns.countplot(y = 'extension', data = data)\n",
    "plt.show()"
   ]
  },
  {
   "cell_type": "markdown",
   "metadata": {},
   "source": [
    "# Examples of every type of file"
   ]
  },
  {
   "cell_type": "code",
   "execution_count": 102,
   "metadata": {},
   "outputs": [
    {
     "name": "stdout",
     "output_type": "stream",
     "text": [
      "Examples for : .mkv\n",
      "0    Mission Impossible 4\n",
      "Name: file_name, dtype: object\n",
      "\n",
      "Examples for : .mp4\n",
      "3    71.2014.720p.BluRay.x264.YIFY\n",
      "Name: file_name, dtype: object\n",
      "\n",
      "Examples for : .srt\n",
      "8    17.Again.2009.720p.BrRip.x264.YIFY\n",
      "Name: file_name, dtype: object\n",
      "\n",
      "Examples for : .jpg\n",
      "9    WWW.YIFY-TORRENTS.COM\n",
      "Name: file_name, dtype: object\n",
      "\n",
      "Examples for : .avi\n",
      "10    3 Musketeers\n",
      "Name: file_name, dtype: object\n",
      "\n",
      "Examples for : .bc!\n",
      "29    Detective Byomkesh Bakshy (2015) Hindi 720p Bl...\n",
      "Name: file_name, dtype: object\n",
      "\n",
      "Examples for : .txt\n",
      "31    A DDR Exclusive Release\n",
      "Name: file_name, dtype: object\n",
      "\n",
      "Examples for : .db\n",
      "44    Thumbs\n",
      "Name: file_name, dtype: object\n",
      "\n",
      "Examples for : .ini\n",
      "117    desktop\n",
      "Name: file_name, dtype: object\n",
      "\n",
      "Examples for : .MKV\n",
      "134    Losers\n",
      "Name: file_name, dtype: object\n",
      "\n",
      "Examples for : .idx\n",
      "164    Big.Hero.6.2014.1080p.BluRay.H264.AAC-RARBG\n",
      "Name: file_name, dtype: object\n",
      "\n",
      "Examples for : .sub\n",
      "165    Big.Hero.6.2014.1080p.BluRay.H264.AAC-RARBG\n",
      "Name: file_name, dtype: object\n",
      "\n",
      "Examples for : .ass\n",
      "243    Hotel.Transylvania.2.2015.720p.HDRip.x264-iPUN...\n",
      "Name: file_name, dtype: object\n",
      "\n",
      "Examples for : .dat\n",
      "250    ~uTorrentPartFile_65EAD79C\n",
      "Name: file_name, dtype: object\n",
      "\n",
      "Examples for : .zip\n",
      "456    [www.anysubs.com] - Pirates_of_the_Caribbean__...\n",
      "Name: file_name, dtype: object\n",
      "\n",
      "Examples for : .FLV\n",
      "499    Rocky Balboa Alternative ending\n",
      "Name: file_name, dtype: object\n",
      "\n",
      "Examples for : .nfo\n",
      "738    diverse-wilder-xvid\n",
      "Name: file_name, dtype: object\n",
      "\n",
      "Examples for : .flv\n",
      "758    Watch Jolly LLB 2013 Hindi 720p DvDrip World4D...\n",
      "Name: file_name, dtype: object\n",
      "\n"
     ]
    }
   ],
   "source": [
    "for i in data.extension.unique():\n",
    "    print(\"Examples for :\", i)\n",
    "    print(data[data.extension == i]['file_name'].head(1))\n",
    "    print()"
   ]
  },
  {
   "cell_type": "markdown",
   "metadata": {},
   "source": [
    "# Files Needing Renaming\n",
    "some of the file contain spam texts. We need to replace them with correct one or remove them.\n",
    "\n",
    "one of the feature that I have observed is file names which contain spam text usually have special characters."
   ]
  },
  {
   "cell_type": "code",
   "execution_count": 103,
   "metadata": {},
   "outputs": [],
   "source": [
    "def has_special_char(text: str) -> bool:\n",
    "    return any(c for c in text if not c.isalnum() and not c.isspace())"
   ]
  },
  {
   "cell_type": "code",
   "execution_count": 104,
   "metadata": {},
   "outputs": [],
   "source": [
    "defaulters = []\n",
    "clean = []\n",
    "for path in file_paths:\n",
    "    file = path.split('/')[-1]\n",
    "    file_name, extension = os.path.splitext(file)\n",
    "    if has_special_char(file_name): defaulters.append(path)\n",
    "    else: clean.append(path)"
   ]
  },
  {
   "cell_type": "code",
   "execution_count": 105,
   "metadata": {},
   "outputs": [
    {
     "name": "stdout",
     "output_type": "stream",
     "text": [
      "/media/ketan/Seagate Expansion Drive/Movies/Hollywood/'71 (2014)/71.2014.720p.BluRay.x264.YIFY.mp4\n",
      "/media/ketan/Seagate Expansion Drive/Movies/Hollywood/(2005)The Exorcism of Emily Rose.mp4\n",
      "/media/ketan/Seagate Expansion Drive/Movies/Hollywood/03 Last Crusade - Harrison Ford Adventure Eng [H264-mp4].mp4\n",
      "/media/ketan/Seagate Expansion Drive/Movies/Hollywood/17 Again (2009)/17.Again.2009.720p.BrRip.x264.YIFY.mp4\n",
      "/media/ketan/Seagate Expansion Drive/Movies/Hollywood/17 Again (2009)/17.Again.2009.720p.BrRip.x264.YIFY.srt\n",
      "/media/ketan/Seagate Expansion Drive/Movies/Hollywood/17 Again (2009)/WWW.YIFY-TORRENTS.COM.jpg\n",
      "/media/ketan/Seagate Expansion Drive/Movies/Hollywood/310 to Yuma (2007)/310.to.Yuma.2007.720p.BrRip.x264.BOKUTOX.YIFY.mp4\n",
      "/media/ketan/Seagate Expansion Drive/Movies/Hollywood/310 to Yuma (2007)/Catch Me If You Can (2002)/Catch.Me.If.You.Can.2002.720p.BluRay.x264.YIFY.mp4\n",
      "/media/ketan/Seagate Expansion Drive/Movies/Hollywood/310 to Yuma (2007)/Catch Me If You Can (2002)/WWW.YIFY-TORRENTS.COM.jpg\n",
      "/media/ketan/Seagate Expansion Drive/Movies/Hollywood/3B34b13.WorldFree4u.Com.mkv\n"
     ]
    }
   ],
   "source": [
    "for i in range(10):\n",
    "    print(defaulters[i])"
   ]
  },
  {
   "cell_type": "code",
   "execution_count": 106,
   "metadata": {},
   "outputs": [
    {
     "name": "stdout",
     "output_type": "stream",
     "text": [
      "543  number of files need renaming out of 1055\n"
     ]
    }
   ],
   "source": [
    "print(len(defaulters), \" number of files need renaming out of\", len(files))"
   ]
  },
  {
   "cell_type": "code",
   "execution_count": 107,
   "metadata": {},
   "outputs": [
    {
     "name": "stdout",
     "output_type": "stream",
     "text": [
      "/media/ketan/Seagate Expansion Drive/Movies/Hollywood/Mission Impossible/Mission Impossible 4.mkv\n",
      "/media/ketan/Seagate Expansion Drive/Movies/Hollywood/Mission Impossible/Mission Impossible Rogue Nation.mkv\n",
      "/media/ketan/Seagate Expansion Drive/Movies/Hollywood/Mission Impossible/Mission Impossible.mkv\n",
      "/media/ketan/Seagate Expansion Drive/Movies/Hollywood/000 Point Break.mkv\n",
      "/media/ketan/Seagate Expansion Drive/Movies/Hollywood/3 Musketeers.avi\n",
      "/media/ketan/Seagate Expansion Drive/Movies/Hollywood/300/300  Rise.mkv\n",
      "/media/ketan/Seagate Expansion Drive/Movies/Hollywood/300/300.mkv\n",
      "/media/ketan/Seagate Expansion Drive/Movies/Hollywood/300 Rise of an Empire (2014) [1080p]/300 Rise of an Empire.mp4\n",
      "/media/ketan/Seagate Expansion Drive/Movies/Hollywood/300.mkv\n",
      "/media/ketan/Seagate Expansion Drive/Movies/Hollywood/Deadpool subs.srt\n"
     ]
    }
   ],
   "source": [
    "for i in range(10):\n",
    "    print(clean[i])"
   ]
  },
  {
   "cell_type": "markdown",
   "metadata": {},
   "source": [
    "# Files with same name"
   ]
  },
  {
   "cell_type": "code",
   "execution_count": null,
   "metadata": {},
   "outputs": [],
   "source": []
  },
  {
   "cell_type": "markdown",
   "metadata": {},
   "source": [
    "# Extracting file and folder information\n",
    "\n",
    "Finding out which file is inside a folder with same name or not.\n",
    "for files which don't have folders create and move the files into folders.\n",
    "do the same for srt files."
   ]
  },
  {
   "cell_type": "code",
   "execution_count": 108,
   "metadata": {},
   "outputs": [],
   "source": [
    "def compare_folder_file(folder_name, file_name):\n",
    "    folder_name = folder_name.split(\" \")\n",
    "    file_name = file_name.split(\" \")\n",
    "    \n",
    "    word_matched = 0\n",
    "    \n",
    "    for i, j in zip(folder_name, file_name):\n",
    "        if j.lower() in i.lower():\n",
    "            word_matched += 1\n",
    "    if word_matched > 0: return False\n",
    "    else: return True"
   ]
  },
  {
   "cell_type": "code",
   "execution_count": 109,
   "metadata": {},
   "outputs": [
    {
     "name": "stdout",
     "output_type": "stream",
     "text": [
      "/media/ketan/Seagate Expansion Drive/Movies/Hollywood/'71 (2014)/71.2014.720p.BluRay.x264.YIFY.mp4\n",
      "/media/ketan/Seagate Expansion Drive/Movies/Hollywood/(2005)The Exorcism of Emily Rose.mp4\n",
      "/media/ketan/Seagate Expansion Drive/Movies/Hollywood/000 Point Break.mkv\n",
      "/media/ketan/Seagate Expansion Drive/Movies/Hollywood/03 Last Crusade - Harrison Ford Adventure Eng [H264-mp4].mp4\n",
      "/media/ketan/Seagate Expansion Drive/Movies/Hollywood/17 Again (2009)/17.Again.2009.720p.BrRip.x264.YIFY.mp4\n",
      "/media/ketan/Seagate Expansion Drive/Movies/Hollywood/17 Again (2009)/17.Again.2009.720p.BrRip.x264.YIFY.srt\n",
      "/media/ketan/Seagate Expansion Drive/Movies/Hollywood/17 Again (2009)/WWW.YIFY-TORRENTS.COM.jpg\n",
      "/media/ketan/Seagate Expansion Drive/Movies/Hollywood/3 Musketeers.avi\n",
      "/media/ketan/Seagate Expansion Drive/Movies/Hollywood/300.mkv\n",
      "/media/ketan/Seagate Expansion Drive/Movies/Hollywood/310 to Yuma (2007)/310.to.Yuma.2007.720p.BrRip.x264.BOKUTOX.YIFY.mp4\n"
     ]
    }
   ],
   "source": [
    "without_folders = []\n",
    "for path in file_paths:\n",
    "    temp = path.split('/')\n",
    "    \n",
    "    file_name = os.path.splitext(temp[-1])[0]\n",
    "    folder_name = temp[-2]\n",
    "#     file_name not in folder_name\n",
    "    if compare_folder_file(folder_name, file_name):\n",
    "        without_folders.append(path)\n",
    "for i in range(10):\n",
    "    print(without_folders[i])"
   ]
  },
  {
   "cell_type": "code",
   "execution_count": null,
   "metadata": {},
   "outputs": [],
   "source": []
  }
 ],
 "metadata": {
  "kernelspec": {
   "display_name": "Python 3",
   "language": "python3",
   "name": "python3"
  },
  "language_info": {
   "codemirror_mode": {
    "name": "ipython",
    "version": 3
   },
   "file_extension": ".py",
   "mimetype": "text/x-python",
   "name": "python",
   "nbconvert_exporter": "python",
   "pygments_lexer": "ipython3",
   "version": "3.6.9"
  }
 },
 "nbformat": 4,
 "nbformat_minor": 2
}
